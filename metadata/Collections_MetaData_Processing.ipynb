{
 "cells": [
  {
   "cell_type": "raw",
   "id": "575ad400",
   "metadata": {},
   "source": [
    "Helper function to filter full collectons to smaller subset based on rarity score total... "
   ]
  },
  {
   "cell_type": "code",
   "execution_count": 104,
   "id": "1e94871d",
   "metadata": {},
   "outputs": [],
   "source": [
    "import pandas as pd\n",
    "import numpy as np\n",
    "import os\n",
    "import sys\n",
    "import shutil\n",
    "import zipfile\n",
    "from zipfile import ZipFile, ZIP_DEFLATED\n",
    "import json\n",
    "import seaborn as sns\n",
    "import matplotlib.pyplot as plt\n",
    "\n",
    "sns.set_theme(style=\"whitegrid\")"
   ]
  },
  {
   "cell_type": "code",
   "execution_count": 105,
   "id": "9d61bfb6",
   "metadata": {},
   "outputs": [],
   "source": [
    "metadata_zip_filename = \"C:/Users/allen/allen/MADS/SIADS _697/data/cryptopunks.zip\"\n",
    "#metadata_zip_filename = \"C:/Users/allen/allen/MADS/SIADS _697/data/boredapeyachtclub_metadata_archive.zip\"\n",
    "#metadata_zip_filename = \"C:/Users/allen/allen/MADS/SIADS _697/data/hapeprime_metadata_archive.zip\"\n",
    "#metadata_zip_filename = \"C:/Users/allen/allen/MADS/SIADS _697/data/meebits_metadata_archive.zip\"\n"
   ]
  },
  {
   "cell_type": "code",
   "execution_count": 107,
   "id": "79c48132",
   "metadata": {},
   "outputs": [],
   "source": [
    "#provide a list of token names ordered by highest rarity score\n",
    "#path and filename to zip that has the metadata!\n",
    "#percent of zipcollection to pull 0 to 1.0, default all\n",
    "def filterCollectionByRareTraits(metadata_zip_fileName, percent_collection = 1):\n",
    "    \n",
    "    # open zipped dataset \n",
    "    collection_list = list()\n",
    "    collection_df = None\n",
    "    traits_df = None\n",
    "    full_traits_list = list()\n",
    "    collection_count = 0\n",
    "    with zipfile.ZipFile(zip_filename) as z:\n",
    "\n",
    "        listOfiles = z.namelist()\n",
    "        for fileName in listOfiles:\n",
    "            #just the json\n",
    "            if \".json\" in fileName:\n",
    "                collection_count = collection_count + 1\n",
    "                with z.open(fileName) as f:\n",
    "\n",
    "                    #read nft metadata into a df\n",
    "                    df = pd.read_json(f, orient='index')\n",
    "                    df = df.reset_index()            \n",
    "\n",
    "                    #creates traits dict list\n",
    "                    traits_series = df[df['index'] == 'traits'][0]\n",
    "                    traits_list = traits_series.to_list()[0]\n",
    "                    #add id field to each trait_dict in list\n",
    "                    id_val = df[df['index'] == 'token_id'][0].to_list()[0]\n",
    "                    for traits_dict in traits_list:\n",
    "                        traits_dict['token_id'] = id_val\n",
    "                    full_traits_list.extend(traits_list)\n",
    "\n",
    "    #create dataframe with token_id, trait and trait count\n",
    "    traits_df = pd.DataFrame(full_traits_list)\n",
    "    traits_df = traits_df.astype({\"token_id\": int, \"trait_count\": int})\n",
    "\n",
    "    #calculate trait rarity score based on rarity.tools approach\n",
    "    traits_score_df = traits_df.groupby(['trait_type','value']).size().reset_index()\n",
    "    traits_score_df['trait_type_value'] = traits_score_df['trait_type'] + traits_score_df['value'] \n",
    "    traits_score_df.columns = ['trait_type', 'value', 'total count', 'trait_type_value',]\n",
    "    traits_score_df = traits_score_df.sort_values(by=['total count'], ascending=False)\n",
    "    traits_score_df = traits_score_df.astype({\"total count\": int})\n",
    "    traits_score_df['rarity_score'] = 1/(traits_score_df['total count']/collection_count) \n",
    "    traits_score_df['rarity_score_log'] = np.log10(traits_score_df['rarity_score'])\n",
    "    traits_score_df = traits_score_df[['trait_type_value', 'rarity_score', 'rarity_score_log']] \n",
    "\n",
    "    #sum trait score based on rarity.tools calculation\n",
    "    traits_group_df = traits_df.groupby(['token_id','trait_type','value']).size().reset_index()\n",
    "    traits_group_df.rename({'0': 'count'}, axis=1, inplace=True)\n",
    "    traits_group_df.columns = ['token_id','trait_type', 'trait_value', 'total_count']\n",
    "    #combine trait type and value as the key\n",
    "    traits_group_df['trait_type_value'] = traits_group_df['trait_type'] + traits_group_df['trait_value']\n",
    "\n",
    "    #merge with traits_score_df\n",
    "    token_traits_rarity_total_df = pd.merge(traits_group_df, traits_score_df, on='trait_type_value')\n",
    "    #group tokens on rarity_score total\n",
    "    token_traits_rarity_total_df = token_traits_rarity_total_df.groupby(['token_id']).agg({'rarity_score': ['sum'], })\n",
    "    token_traits_rarity_total_df.columns = ['rarity_total']\n",
    "    token_traits_rarity_total_df = token_traits_rarity_total_df.reset_index()\n",
    "    #sort on the highest rarity score\n",
    "    token_traits_rarity_total_df = token_traits_rarity_total_df.sort_values(by=['rarity_total'], ascending=False)\n",
    "    \n",
    "    #pull the percentage of collection requested\n",
    "    col_size = int(percent_collection * collection_count)\n",
    "    return token_traits_rarity_total_df.head(col_size)['token_id'].to_list()        \n",
    "        \n",
    "            "
   ]
  },
  {
   "cell_type": "code",
   "execution_count": 110,
   "id": "9861d83a",
   "metadata": {},
   "outputs": [],
   "source": [
    "tokens_list = filterCollectionByRareTraits(zip_filename, .01)\n"
   ]
  },
  {
   "cell_type": "code",
   "execution_count": 111,
   "id": "379830af",
   "metadata": {},
   "outputs": [],
   "source": [
    "#create a new image_zip file that is a subset based on tokens_list\n",
    "#src_zip that has the image files!\n",
    "#dst_zip is the new zip that contains the subset of png files based on tokens list\n",
    "#tokens_list generated from filterCollectionBy... functions\n",
    "\n",
    "def create_filtered_collection_zip(src_zip, dst_zip, tokens_list):\n",
    "    #conv token list to str for matching\n",
    "    tokens_list = list(map(str, tokens_list))\n",
    "    with ZipFile(src_zip, \"r\", compression=ZIP_DEFLATED) as src_zip_archive:\n",
    "        with ZipFile(dst_zip, \"w\", compression=ZIP_DEFLATED) as dst_zip_archive:\n",
    "            for zitem in src_zip_archive.namelist():\n",
    "                #if zitem in tokens_list and zitem:\n",
    "                filename = os.path.basename(zitem)\n",
    "                # skip directories and json files\n",
    "                if not filename or \".png\" not in filename:\n",
    "                    continue\n",
    "                else:\n",
    "                    #strip off .png extension to find file and check in tokens_list\n",
    "                    if filename[:-4] in tokens_list:\n",
    "                        #print(filename)\n",
    "                        if sys.version_info >= (3, 6):\n",
    "                            with src_zip_archive.open(zitem) as from_item:\n",
    "                                with dst_zip_archive.open(zitem, \"w\") as to_item:\n",
    "                                    shutil.copyfileobj(from_item, to_item)\n",
    "                        else:\n",
    "                            # warning, may blow up memory\n",
    "                            dst_zip_archive.writestr(zitem, \n",
    "                            src_zip_archive.read(zitem))\n",
    "\n",
    "                               "
   ]
  },
  {
   "cell_type": "code",
   "execution_count": 112,
   "id": "e34dd1b1",
   "metadata": {},
   "outputs": [],
   "source": [
    "#original full collection of images zip file\n",
    "images_in_zip_filename = \"C:/Users/allen/allen/MADS/SIADS _697/data/cryptopunks.zip\"\n",
    "#name of zip to create\n",
    "zip_out_filename = \"C:/Users/allen/allen/MADS/SIADS _697/data/cryptopunks_filtered.zip\"\n",
    "\n",
    "\n",
    "create_filtered_collection_zip(images_in_zip_filename, zip_out_filename, tokens_list)\n"
   ]
  }
 ],
 "metadata": {
  "kernelspec": {
   "display_name": "Python 3 (ipykernel)",
   "language": "python",
   "name": "python3"
  },
  "language_info": {
   "codemirror_mode": {
    "name": "ipython",
    "version": 3
   },
   "file_extension": ".py",
   "mimetype": "text/x-python",
   "name": "python",
   "nbconvert_exporter": "python",
   "pygments_lexer": "ipython3",
   "version": "3.9.7"
  }
 },
 "nbformat": 4,
 "nbformat_minor": 5
}

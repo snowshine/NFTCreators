{
  "cells": [
    {
      "cell_type": "markdown",
      "metadata": {
        "id": "view-in-github",
        "colab_type": "text"
      },
      "source": [
        "<a href=\"https://colab.research.google.com/github/snowshine/NFTCreators/blob/main/gan/model.ipynb\" target=\"_parent\"><img src=\"https://colab.research.google.com/assets/colab-badge.svg\" alt=\"Open In Colab\"/></a>"
      ]
    },
    {
      "cell_type": "code",
      "source": [
        "import tensorflow as tf\n",
        "from tensorflow.keras.layers import Input, Reshape, Dropout, Dense \n",
        "from tensorflow.keras.layers import Flatten, BatchNormalization\n",
        "from tensorflow.keras.layers import Activation, ZeroPadding2D\n",
        "from tensorflow.keras.layers import LeakyReLU\n",
        "from tensorflow.keras.layers import UpSampling2D, Conv2D\n",
        "from tensorflow.keras.models import Sequential, Model, load_model\n",
        "from tensorflow.keras.optimizers import Adam\n",
        "\n",
        "import numpy as np\n",
        "from PIL import Image\n",
        "from tqdm import tqdm\n",
        "import os \n",
        "import time\n",
        "import matplotlib.pyplot as plt\n"
      ],
      "metadata": {
        "id": "LN72fnD8QBNk"
      },
      "execution_count": 2,
      "outputs": []
    },
    {
      "cell_type": "code",
      "source": [
        "tf.__version__, tf.test.gpu_device_name()"
      ],
      "metadata": {
        "colab": {
          "base_uri": "https://localhost:8080/"
        },
        "id": "vo9h1-0a7TQo",
        "outputId": "e1d6d6e9-f6cc-4a18-d576-59b2e2f5089f"
      },
      "execution_count": null,
      "outputs": [
        {
          "output_type": "execute_result",
          "data": {
            "text/plain": [
              "('2.8.0', '/device:GPU:0')"
            ]
          },
          "metadata": {},
          "execution_count": 52
        }
      ]
    },
    {
      "cell_type": "code",
      "metadata": {
        "id": "MpugGx73slN_",
        "cell_id": "00004-ed3738aa-e866-4107-81ff-f31f230ec162",
        "deepnote_cell_type": "code",
        "outputId": "f5f9ebcb-887d-4ed0-cf8e-eb82e5195904",
        "colab": {
          "base_uri": "https://localhost:8080/"
        }
      },
      "source": [
        "from google.colab import drive\n",
        "drive.mount('/content/drive')\n",
        "# drive._mount('/content/drive')\n",
        "# drive.mount(\"/content/drive\", force_remount=True)\n",
        "\n",
        "# change working directory\n",
        "%cd /content/drive/Shareddrives/Capstone/\n",
        "!ls -art"
      ],
      "outputs": [
        {
          "output_type": "stream",
          "name": "stdout",
          "text": [
            "Mounted at /content/drive\n",
            "/content/drive/Shareddrives/Capstone\n",
            "cryptopunks.zip\t\t   crytopunks_image_data      cryptopunks32.npz\n",
            "mutant-ape-yacht-club.zip  mutant_image_data\t      cryptopunks.npz\n",
            "mutant-ape-yacht-club\t   mutant-ape-yacht-club.npz\n",
            "cryptopunks\t\t   cryptopunks32_0.npz\n"
          ]
        }
      ],
      "execution_count": 1
    },
    {
      "cell_type": "code",
      "source": [
        "def hms_string(sec_elapsed):\n",
        "    h = int(sec_elapsed / (60 * 60))\n",
        "    m = int((sec_elapsed % (60 * 60)) / 60)\n",
        "    s = sec_elapsed % 60.\n",
        "    return \"{}:{:>02}:{:>05.2f}\".format(h, m, s)"
      ],
      "metadata": {
        "id": "KGgdxNmql4A6"
      },
      "execution_count": 3,
      "outputs": []
    },
    {
      "cell_type": "markdown",
      "source": [
        "### Build the discriminator and the generator model"
      ],
      "metadata": {
        "id": "6zddqdz10Une"
      }
    },
    {
      "cell_type": "code",
      "source": [
        "def build_generator(seed_size, channels):\n",
        "    model = Sequential()\n",
        "\n",
        "    model.add(Dense(4*4*256,activation=\"relu\",input_dim=seed_size))\n",
        "    model.add(Reshape((4,4,256)))\n",
        "\n",
        "    model.add(UpSampling2D())\n",
        "    model.add(Conv2D(256,kernel_size=3,padding=\"same\"))\n",
        "    model.add(BatchNormalization(momentum=0.8))\n",
        "    model.add(Activation(\"relu\"))\n",
        "\n",
        "    model.add(UpSampling2D())\n",
        "    model.add(Conv2D(256,kernel_size=3,padding=\"same\"))\n",
        "    model.add(BatchNormalization(momentum=0.8))\n",
        "    model.add(Activation(\"relu\"))\n",
        "   \n",
        "    # Output resolution, additional upsampling\n",
        "    model.add(UpSampling2D())\n",
        "    model.add(Conv2D(128,kernel_size=3,padding=\"same\"))\n",
        "    model.add(BatchNormalization(momentum=0.8))\n",
        "    model.add(Activation(\"relu\"))\n",
        "\n",
        "    if GENERATE_RES>1:\n",
        "      model.add(UpSampling2D(size=(GENERATE_RES,GENERATE_RES)))\n",
        "      model.add(Conv2D(128,kernel_size=3,padding=\"same\"))\n",
        "      model.add(BatchNormalization(momentum=0.8))\n",
        "      model.add(Activation(\"relu\"))\n",
        "\n",
        "    # Final CNN layer\n",
        "    model.add(Conv2D(channels,kernel_size=3,padding=\"same\"))\n",
        "    model.add(Activation(\"tanh\"))\n",
        "\n",
        "    return model\n",
        "\n",
        "\n",
        "def build_discriminator(image_shape):\n",
        "    model = Sequential()\n",
        "\n",
        "    model.add(Conv2D(32, kernel_size=3, strides=2, input_shape=image_shape, \n",
        "                     padding=\"same\"))\n",
        "    model.add(LeakyReLU(alpha=0.2))\n",
        "\n",
        "    model.add(Dropout(0.25))\n",
        "    model.add(Conv2D(64, kernel_size=3, strides=2, padding=\"same\"))\n",
        "    model.add(ZeroPadding2D(padding=((0,1),(0,1))))\n",
        "    model.add(BatchNormalization(momentum=0.8))\n",
        "    model.add(LeakyReLU(alpha=0.2))\n",
        "\n",
        "    model.add(Dropout(0.25))\n",
        "    model.add(Conv2D(128, kernel_size=3, strides=2, padding=\"same\"))\n",
        "    model.add(BatchNormalization(momentum=0.8))\n",
        "    model.add(LeakyReLU(alpha=0.2))\n",
        "\n",
        "    model.add(Dropout(0.25))\n",
        "    model.add(Conv2D(256, kernel_size=3, strides=1, padding=\"same\"))\n",
        "    model.add(BatchNormalization(momentum=0.8))\n",
        "    model.add(LeakyReLU(alpha=0.2))\n",
        "\n",
        "    model.add(Dropout(0.25))\n",
        "    model.add(Conv2D(512, kernel_size=3, strides=1, padding=\"same\"))\n",
        "    model.add(BatchNormalization(momentum=0.8))\n",
        "    model.add(LeakyReLU(alpha=0.2))\n",
        "\n",
        "    model.add(Dropout(0.25))\n",
        "    model.add(Flatten())\n",
        "    model.add(Dense(1, activation='sigmoid'))\n",
        "\n",
        "    return model"
      ],
      "metadata": {
        "id": "qZeJ6XO00VZg"
      },
      "execution_count": 4,
      "outputs": []
    },
    {
      "cell_type": "code",
      "source": [
        "# define loss function\n",
        "cross_entropy = tf.keras.losses.BinaryCrossentropy()\n",
        "\n",
        "def discriminator_loss(real_output, fake_output):\n",
        "    real_loss = cross_entropy(tf.ones_like(real_output), real_output)\n",
        "    fake_loss = cross_entropy(tf.zeros_like(fake_output), fake_output)\n",
        "    total_loss = real_loss + fake_loss\n",
        "    return total_loss\n",
        "\n",
        "def generator_loss(fake_output):\n",
        "    return cross_entropy(tf.ones_like(fake_output), fake_output)"
      ],
      "metadata": {
        "id": "s1R2GLJo0-IA"
      },
      "execution_count": 5,
      "outputs": []
    },
    {
      "cell_type": "markdown",
      "source": [
        "As we progress through training images will be produced to show the progress. These images will contain a number of rendered image data that show how good the generator has become."
      ],
      "metadata": {
        "id": "psNkSqac0jee"
      }
    },
    {
      "cell_type": "code",
      "source": [
        "# define generated image resolution (as square like 128x128 and multiple of 32)\n",
        "# 128×128 resolution is the highest we can go for Google CoLab (with GPU). \n",
        "# The higher the resolution, the more memory that will be needed, also longer run times\n",
        "GENERATE_RES = 1 # Generation resolution factor (1=32, 2=64, 3=96, 4=128, etc.)\n",
        "# GENERATE_RES = 4 # Generation resolution factor (1=32, 2=64, 3=96, 4=128, etc.)\n",
        "GENERATE_SQUARE = 32 * GENERATE_RES # rows/cols (should be square)\n",
        "IMAGE_CHANNELS = 3\n",
        "print(f\"Will generate {GENERATE_SQUARE}px square images.\")\n",
        "\n",
        "# Preview image setting\n",
        "# PREVIEW_ROWS = 4\n",
        "# PREVIEW_COLS = 7\n",
        "# PREVIEW_MARGIN = 16\n",
        "PREVIEW_ROWS = 2\n",
        "PREVIEW_COLS = 3\n",
        "PREVIEW_MARGIN = 16\n",
        "\n",
        "from PIL import Image\n",
        "def save_images(cnt, noise, output_path):\n",
        "  image_array = np.full(( \n",
        "      PREVIEW_MARGIN + (PREVIEW_ROWS * (GENERATE_SQUARE+PREVIEW_MARGIN)), \n",
        "      PREVIEW_MARGIN + (PREVIEW_COLS * (GENERATE_SQUARE+PREVIEW_MARGIN)), 3), \n",
        "      255, dtype=np.uint8)\n",
        "  \n",
        "  generated_images = generator.predict(noise)\n",
        "\n",
        "  generated_images = 0.5 * generated_images + 0.5\n",
        "\n",
        "  image_count = 0\n",
        "  for row in range(PREVIEW_ROWS):\n",
        "      for col in range(PREVIEW_COLS):\n",
        "        r = row * (GENERATE_SQUARE+16) + PREVIEW_MARGIN  #16,64\n",
        "        c = col * (GENERATE_SQUARE+16) + PREVIEW_MARGIN  #16,64,112\n",
        "        print('r=', r, '; c=', c)      \n",
        "        image_array[r:r+GENERATE_SQUARE,c:c+GENERATE_SQUARE] = generated_images[image_count] * 255\n",
        "        image_count += 1\n",
        "  \n",
        "  if not os.path.exists(output_path):\n",
        "    os.makedirs(output_path)\n",
        "    \n",
        "  filename = os.path.join(output_path,f\"train-{cnt}.png\")\n",
        "  im = Image.fromarray(image_array)\n",
        "  im.save(filename)\n",
        "  plt.imshow(im)"
      ],
      "metadata": {
        "id": "ROeHCBBA0kJE",
        "colab": {
          "base_uri": "https://localhost:8080/"
        },
        "outputId": "36a6605e-d2bc-4d5e-afea-b004c21415d8"
      },
      "execution_count": 6,
      "outputs": [
        {
          "output_type": "stream",
          "name": "stdout",
          "text": [
            "Will generate 32px square images.\n"
          ]
        }
      ]
    },
    {
      "cell_type": "code",
      "source": [
        "# use Adam and the same learning rate and momentum for both generator and discriminator. \n",
        "# need to tune the learning rates and other hyperparameters for higher image resolution (GENERATE_RES>3)\n",
        "generator_optimizer = tf.keras.optimizers.Adam(1.5e-4,0.5)\n",
        "discriminator_optimizer = tf.keras.optimizers.Adam(1.5e-4,0.5)\n",
        "\n",
        "# based on: https://www.tensorflow.org/tutorials/generative/dcgan\n",
        "@tf.function\n",
        "def train_step(images, batch_size, seed_size):\n",
        "  # seed = tf.random.normal([BATCH_SIZE, SEED_SIZE])\n",
        "  seed = tf.random.normal([batch_size, seed_size])\n",
        "\n",
        "  with tf.GradientTape() as gen_tape, tf.GradientTape() as disc_tape:\n",
        "    generated_images = generator(seed, training=True)\n",
        "\n",
        "    real_output = discriminator(images, training=True)\n",
        "    fake_output = discriminator(generated_images, training=True)\n",
        "\n",
        "    gen_loss = generator_loss(fake_output)\n",
        "    disc_loss = discriminator_loss(real_output, fake_output)\n",
        "    \n",
        "    gradients_of_generator = gen_tape.gradient(gen_loss, generator.trainable_variables)\n",
        "    gradients_of_discriminator = disc_tape.gradient(disc_loss, discriminator.trainable_variables)\n",
        "\n",
        "    generator_optimizer.apply_gradients(zip(gradients_of_generator, generator.trainable_variables))\n",
        "    discriminator_optimizer.apply_gradients(zip(gradients_of_discriminator, discriminator.trainable_variables))\n",
        "  return gen_loss,disc_loss"
      ],
      "metadata": {
        "id": "RhWNVAWN1T_P"
      },
      "execution_count": 7,
      "outputs": []
    },
    {
      "cell_type": "code",
      "source": [
        "def train(dataset, epochs, batch_size, seed_size, output_path = 'output'):\n",
        "  \n",
        "  start = time.time()\n",
        "  # print(start)\n",
        "\n",
        "  for epoch in range(epochs):\n",
        "    epoch_start = time.time()\n",
        "\n",
        "    gen_loss_list = []\n",
        "    disc_loss_list = []\n",
        "\n",
        "    for image_batch in dataset:\n",
        "      t = train_step(image_batch, batch_size, seed_size)\n",
        "      gen_loss_list.append(t[0])\n",
        "      disc_loss_list.append(t[1])\n",
        "\n",
        "    g_loss = sum(gen_loss_list) / len(gen_loss_list)\n",
        "    d_loss = sum(disc_loss_list) / len(disc_loss_list)\n",
        "\n",
        "    epoch_elapsed = time.time()-epoch_start\n",
        "    print (f'Epoch {epoch+1}, gen loss={g_loss},disc loss={d_loss}, time={hms_string(epoch_elapsed)}')\n",
        "\n",
        "    fixed_seed = np.random.normal(0, 1, (PREVIEW_ROWS * PREVIEW_COLS, SEED_SIZE))\n",
        "    save_images(epoch, fixed_seed, output_path)\n",
        "\n",
        "  elapsed = time.time()-start\n",
        "  print (f'Training time: {hms_string(elapsed)}')"
      ],
      "metadata": {
        "id": "YtNh1ddy1iQT"
      },
      "execution_count": 9,
      "outputs": []
    },
    {
      "cell_type": "code",
      "source": [
        "EPOCHS = 10 #50\n",
        "BATCH_SIZE = 32\n",
        "BUFFER_SIZE = 60000\n",
        "SEED_SIZE = 100  # Size vector to generate images from\n",
        "\n",
        "def loadDataset(collection, buffer_size=BUFFER_SIZE, batch_size=BATCH_SIZE):\n",
        "  np_data = np.load(collection + '.npz')['arr_0']\n",
        " \n",
        "  # use TensorFlow Dataset object to hold the images, so the data can be quickly shuffled and divided into the appropriate batch sizes for training.\n",
        "  train_dataset = tf.data.Dataset.from_tensor_slices(np_data).shuffle(BUFFER_SIZE).batch(BATCH_SIZE)\n",
        "\n",
        "  return train_dataset\n",
        "\n",
        "train_dataset = loadDataset('/content/drive/Shareddrives/Capstone/cryptopunks32')\n",
        "# train_dataset = loadDataset('cryptopunks32')\n",
        "# loadDataset('mutant-ape-yacht-club')\n",
        "\n",
        "iterator = iter(train_dataset)\n",
        "iterator.get_next().shape  # shape=(32, 32, 32, 3)"
      ],
      "metadata": {
        "id": "Vm7nra99nOjH",
        "colab": {
          "base_uri": "https://localhost:8080/"
        },
        "outputId": "ff270086-67e0-4a31-f1c5-c8076b07e911"
      },
      "execution_count": 13,
      "outputs": [
        {
          "output_type": "execute_result",
          "data": {
            "text/plain": [
              "TensorShape([32, 32, 32, 3])"
            ]
          },
          "metadata": {},
          "execution_count": 13
        }
      ]
    },
    {
      "cell_type": "code",
      "source": [
        "generator = build_generator(SEED_SIZE, IMAGE_CHANNELS)\n",
        "\n",
        "noise = tf.random.normal([1, SEED_SIZE])\n",
        "generated_image = generator(noise, training=False)\n",
        "\n",
        "plt.imshow(generated_image[0, :, :, 0])\n",
        "\n",
        "image_shape = (GENERATE_SQUARE,GENERATE_SQUARE,IMAGE_CHANNELS)\n",
        "\n",
        "discriminator = build_discriminator(image_shape)\n",
        "decision = discriminator(generated_image)\n",
        "print (decision)\n"
      ],
      "metadata": {
        "id": "hs9ksVgz0snb",
        "colab": {
          "base_uri": "https://localhost:8080/",
          "height": 283
        },
        "outputId": "afb9326c-1e13-4637-af0c-49f7a7ec577c"
      },
      "execution_count": 11,
      "outputs": [
        {
          "output_type": "stream",
          "name": "stdout",
          "text": [
            "tf.Tensor([[0.5002206]], shape=(1, 1), dtype=float32)\n"
          ]
        },
        {
          "output_type": "display_data",
          "data": {
            "text/plain": [
              "<Figure size 432x288 with 1 Axes>"
            ],
            "image/png": "[encoded data removed]"
          },
          "metadata": {
            "needs_background": "light"
          }
        }
      ]
    },
    {
      "cell_type": "code",
      "source": [
        "# start training\n",
        "\n",
        "train(train_dataset, EPOCHS, BATCH_SIZE, SEED_SIZE)"
      ],
      "metadata": {
        "id": "y5RqDuHa1jWh",
        "colab": {
          "base_uri": "https://localhost:8080/",
          "height": 1000
        },
        "outputId": "8eca77a4-de11-404d-c3fd-f79a5e1f36c6"
      },
      "execution_count": 14,
      "outputs": [
        {
          "output_type": "stream",
          "name": "stdout",
          "text": [
            "Epoch 1, gen loss=3.9119720458984375,disc loss=0.508361279964447, time=0:00:13.48\n",
            "r= 16 ; c= 16\n",
            "r= 16 ; c= 64\n",
            "r= 16 ; c= 112\n",
            "r= 64 ; c= 16\n",
            "r= 64 ; c= 64\n",
            "r= 64 ; c= 112\n",
            "Epoch 2, gen loss=3.548191547393799,disc loss=0.5295703411102295, time=0:00:07.39\n",
            "r= 16 ; c= 16\n",
            "r= 16 ; c= 64\n",
            "r= 16 ; c= 112\n",
            "r= 64 ; c= 16\n",
            "r= 64 ; c= 64\n",
            "r= 64 ; c= 112\n",
            "Epoch 3, gen loss=3.545600175857544,disc loss=0.5440691113471985, time=0:00:07.42\n",
            "r= 16 ; c= 16\n",
            "r= 16 ; c= 64\n",
            "r= 16 ; c= 112\n",
            "r= 64 ; c= 16\n",
            "r= 64 ; c= 64\n",
            "r= 64 ; c= 112\n",
            "Epoch 4, gen loss=3.3420522212982178,disc loss=0.5442802906036377, time=0:00:07.47\n",
            "r= 16 ; c= 16\n",
            "r= 16 ; c= 64\n",
            "r= 16 ; c= 112\n",
            "r= 64 ; c= 16\n",
            "r= 64 ; c= 64\n",
            "r= 64 ; c= 112\n",
            "Epoch 5, gen loss=3.424907684326172,disc loss=0.5170653462409973, time=0:00:07.87\n",
            "r= 16 ; c= 16\n",
            "r= 16 ; c= 64\n",
            "r= 16 ; c= 112\n",
            "r= 64 ; c= 16\n",
            "r= 64 ; c= 64\n",
            "r= 64 ; c= 112\n",
            "Epoch 6, gen loss=3.3379857540130615,disc loss=0.4889592230319977, time=0:00:07.56\n",
            "r= 16 ; c= 16\n",
            "r= 16 ; c= 64\n",
            "r= 16 ; c= 112\n",
            "r= 64 ; c= 16\n",
            "r= 64 ; c= 64\n",
            "r= 64 ; c= 112\n",
            "Epoch 7, gen loss=3.3385837078094482,disc loss=0.49994441866874695, time=0:00:07.58\n",
            "r= 16 ; c= 16\n",
            "r= 16 ; c= 64\n",
            "r= 16 ; c= 112\n",
            "r= 64 ; c= 16\n",
            "r= 64 ; c= 64\n",
            "r= 64 ; c= 112\n",
            "Epoch 8, gen loss=3.453338623046875,disc loss=0.4181205928325653, time=0:00:07.62\n",
            "r= 16 ; c= 16\n",
            "r= 16 ; c= 64\n",
            "r= 16 ; c= 112\n",
            "r= 64 ; c= 16\n",
            "r= 64 ; c= 64\n",
            "r= 64 ; c= 112\n",
            "Epoch 9, gen loss=3.5157508850097656,disc loss=0.39591214060783386, time=0:00:07.66\n",
            "r= 16 ; c= 16\n",
            "r= 16 ; c= 64\n",
            "r= 16 ; c= 112\n",
            "r= 64 ; c= 16\n",
            "r= 64 ; c= 64\n",
            "r= 64 ; c= 112\n",
            "Epoch 10, gen loss=3.761944055557251,disc loss=0.36243799328804016, time=0:00:07.75\n",
            "r= 16 ; c= 16\n",
            "r= 16 ; c= 64\n",
            "r= 16 ; c= 112\n",
            "r= 64 ; c= 16\n",
            "r= 64 ; c= 64\n",
            "r= 64 ; c= 112\n",
            "Training time: 0:01:22.68\n"
          ]
        },
        {
          "output_type": "display_data",
          "data": {
            "text/plain": [
              "<Figure size 432x288 with 1 Axes>"
            ],
            "image/png": "[encoded data removed]"
          },
          "metadata": {
            "needs_background": "light"
          }
        }
      ]
    },
    {
      "cell_type": "code",
      "source": [
        "# from PIL import Image\n",
        "# image = Image.open('/content/drive/Shareddrives/Capstone/cryptopunks/0000.png')\n",
        "image = Image.open('/content/drive/Shareddrives/Capstone/output/train-0.png')\n",
        "# image.show()"
      ],
      "metadata": {
        "id": "4kAVo0_OR4Pt"
      },
      "execution_count": 15,
      "outputs": []
    },
    {
      "cell_type": "code",
      "source": [
        "from IPython.display import display, Image\n",
        "# display(Image(filename='/content/drive/Shareddrives/Capstone/cryptopunks/0000.png'))\n",
        "display(Image(filename='/content/drive/Shareddrives/Capstone/output/train-4.png')), \n",
        "display(Image(filename='/content/drive/Shareddrives/Capstone/output/train-9.png'))"
      ],
      "metadata": {
        "colab": {
          "base_uri": "https://localhost:8080/",
          "height": 258
        },
        "id": "T4-a0ibmXS5M",
        "outputId": "5bff8a62-c0e7-4bf2-c931-7e5840395920"
      },
      "execution_count": 21,
      "outputs": [
        {
          "output_type": "display_data",
          "data": {
            "text/plain": [
              "<IPython.core.display.Image object>"
            ],
            "image/png": "[encoded data removed]"
          },
          "metadata": {}
        },
        {
          "output_type": "display_data",
          "data": {
            "text/plain": [
              "<IPython.core.display.Image object>"
            ],
            "image/png": "[encoded data removed]"
          },
          "metadata": {}
        },
        {
          "output_type": "execute_result",
          "data": {
            "text/plain": [
              "(None, None)"
            ]
          },
          "metadata": {},
          "execution_count": 21
        }
      ]
    },
    {
      "cell_type": "code",
      "source": [
        ""
      ],
      "metadata": {
        "id": "cLTerFARYo7a"
      },
      "execution_count": null,
      "outputs": []
    }
  ],
  "nbformat": 4,
  "nbformat_minor": 0,
  "metadata": {
    "colab": {
      "name": "model.ipynb",
      "provenance": [],
      "collapsed_sections": [],
      "include_colab_link": true
    },
    "kernelspec": {
      "display_name": "Python 3",
      "name": "python3"
    },
    "language_info": {
      "name": "python"
    },
    "deepnote_notebook_id": "f2b98688-fc4c-4ecb-80f8-e47f3a8afbdf",
    "deepnote": {},
    "deepnote_execution_queue": [],
    "accelerator": "GPU"
  }
}
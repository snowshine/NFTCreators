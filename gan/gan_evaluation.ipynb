{
  "cells": [
    {
      "cell_type": "markdown",
      "metadata": {
        "id": "view-in-github",
        "colab_type": "text"
      },
      "source": [
        "<a href=\"https://colab.research.google.com/github/snowshine/NFTCreators/blob/main/gan/gan_evaluation.ipynb\" target=\"_parent\"><img src=\"https://colab.research.google.com/assets/colab-badge.svg\" alt=\"Open In Colab\"/></a>"
      ]
    },
    {
      "cell_type": "code",
      "source": [
        "from google.colab import drive\n",
        "drive.mount('/content/drive')\n",
        "\n",
        "# change working directory\n",
        "%cd /content/drive/MyDrive/capstone/\n",
        "!ls -art"
      ],
      "metadata": {
        "colab": {
          "base_uri": "https://localhost:8080/"
        },
        "id": "Bd52wlDn49ch",
        "outputId": "c9fc4656-5e63-4664-d2e8-c19d498d85ac"
      },
      "execution_count": 8,
      "outputs": [
        {
          "output_type": "stream",
          "name": "stdout",
          "text": [
            "Drive already mounted at /content/drive; to attempt to forcibly remount, call drive.mount(\"/content/drive\", force_remount=True).\n",
            "/content/drive/MyDrive/capstone\n",
            "cryptopunks.npz\t\t   output\tcryptopunks32.npz  generator\n",
            "mutant-ape-yacht-club.npz  meebits.npz\thapeprime32.npz\n"
          ]
        }
      ]
    },
    {
      "cell_type": "code",
      "source": [
        "# from https://machinelearningmastery.com/how-to-implement-the-inception-score-from-scratch-for-evaluating-generated-images/\n",
        "\n",
        "import numpy as np\n",
        "from numpy.random import shuffle\n",
        "from math import floor\n",
        "from scipy.linalg import sqrtm\n",
        "from skimage.transform import resize\n",
        "\n",
        "from keras.applications.inception_v3 import InceptionV3\n",
        "from keras.applications.inception_v3 import preprocess_input\n",
        "\n",
        "import tensorflow as tf\n",
        "from tensorflow.keras.models import Sequential, Model, load_model\n",
        "import matplotlib.pyplot as plt\n",
        "\n",
        "from keras.datasets.mnist import load_data\n",
        "from keras.datasets import cifar10\n",
        "\n",
        "# load the inception v3 model\n",
        "# model = InceptionV3(include_top=False, pooling='avg', input_shape=(299,299,3))\n",
        "model = InceptionV3()\n",
        "\n",
        "# calculate inception score\n",
        "def calculate_inception_score(model, images, n_split=10, eps=1E-16):\n",
        "\tif images.shape[0] < n_split:\n",
        "\t\t\tn_split = images.shape[0]\t\t\t\n",
        "\tn_part = floor(images.shape[0] / n_split)\n",
        "\n",
        "\t# enumerate splits of images/predictions\n",
        "\tscores = list()\n",
        "\tfor i in range(n_split):\n",
        "\t\t# retrieve images\n",
        "\t\tix_start, ix_end = i * n_part, (i+1) * n_part\n",
        "\t\tsubset = images[ix_start:ix_end]\n",
        "\t\t# predict p(y|x)\n",
        "\t\tp_yx = model.predict(subset)\n",
        "\t\t# calculate p(y)\n",
        "\t\tp_y = np.expand_dims(p_yx.mean(axis=0), 0)\n",
        "\t\t# calculate KL divergence using log probabilities\n",
        "\t\tkl_d = p_yx * (np.log(p_yx + eps) - np.log(p_y + eps))\n",
        "\t\t# sum over classes\n",
        "\t\tsum_kl_d = kl_d.sum(axis=1)\n",
        "\t\t# average over images\n",
        "\t\tavg_kl_d = np.mean(sum_kl_d)\n",
        "\t\t# undo the log\n",
        "\t\tis_score = np.exp(avg_kl_d)\n",
        "\t\t# store\n",
        "\t\tscores.append(is_score)\n",
        "\t# average across images\n",
        "\tis_avg, is_std = np.mean(scores), np.std(scores)\n",
        "\treturn is_avg, is_std\n",
        " \n",
        "# calculate frechet inception distance\n",
        "# from: https://machinelearningmastery.com/how-to-implement-the-frechet-inception-distance-fid-from-scratch/\n",
        "def calculate_fid(model, images1, images2):\n",
        "\t# calculate activations\n",
        "\tact1 = model.predict(images1)\n",
        "\tact2 = model.predict(images2)\n",
        "\t# calculate mean and covariance statistics\n",
        "\tmu1, sigma1 = act1.mean(axis=0), np.cov(act1, rowvar=False)\n",
        "\tmu2, sigma2 = act2.mean(axis=0), np.cov(act2, rowvar=False)\n",
        "\t# calculate sum squared difference between means\n",
        "\tssdiff = np.sum((mu1 - mu2)**2.0)\n",
        "\t# calculate sqrt of product between cov\n",
        "\tcovmean = sqrtm(sigma1.dot(sigma2))\n",
        "\t# check and correct imaginary numbers from sqrt\n",
        "\tif np.iscomplexobj(covmean):\n",
        "\t\tcovmean = covmean.real\n",
        "\t# calculate score\n",
        "\tfid = ssdiff + np.trace(sigma1 + sigma2 - 2.0 * covmean)\n",
        "\treturn fid\n",
        "\n",
        "# scale an array of images to a new size\n",
        "def scale_images(images, new_shape):\n",
        "\timages_list = list()\n",
        "\tfor image in images:\n",
        "\t\t# resize with nearest neighbor interpolation\n",
        "\t\tnew_image = resize(image, new_shape, 0)\n",
        "\t\t# store\n",
        "\t\timages_list.append(new_image)\n",
        "\treturn np.asarray(images_list)\n",
        "\n",
        "# assumes images have any shape and pixels in [0,255]\n",
        "def prepare_inception_images(images):\n",
        "\t\t# convert from uint8 to float32\n",
        "\t\timages = images.astype('float32')\n",
        "\t\t# scale images to the required size\n",
        "\t\timages = scale_images(images, (299,299,3))\n",
        "\t\t# pre-process images, scale to [-1,1]\n",
        "\t\timages = preprocess_input(images)\n",
        "\t\treturn images\n",
        "\n",
        "# load original images used for training\n",
        "def load_origin_images(collection, batch_size):\n",
        "  np_data = np.load(collection + '.npz')['arr_0'][:batch_size]\n",
        "  return np_data\n",
        "\n",
        "# use generator to generate images\n",
        "def load_generated_images(collection, batch_size):\n",
        "  gen_path = 'generator/' + collection + \"/generator\"\n",
        "  generator = load_model(gen_path, compile=False)\n",
        "  generator.compile(optimizer='adam', loss='binary_crossentropy')\n",
        " \n",
        "  SEED_DIM = 100  # Size vector to generate images from\n",
        "  noise = tf.random.normal([batch_size, SEED_DIM])\n",
        "  generated_image = generator(noise, training=False)\n",
        "  \n",
        "  return generated_image.numpy()\n",
        "\n",
        "def get_prepared_images(collection, batch_size):\n",
        "  images_orig = load_origin_images(collection, batch_size)\n",
        "  images_gen = load_generated_images(collection, batch_size)\n",
        "  print('loaded:', images_orig.shape, images_gen.shape)\n",
        "\n",
        "  shuffle(images_orig)\n",
        "  shuffle(images_gen)\n",
        "\n",
        "  images_orig = prepare_inception_images(images_orig)\n",
        "  images_gen = prepare_inception_images(images_gen)\n",
        "  print('prepared:', images_orig.shape, images_gen.shape)\n",
        "\n",
        "  return images_orig, images_gen\n",
        "\n",
        "def get_prepared_cifar10(batch_size):\n",
        "  # calculate inception score for cifar-10 in Keras\n",
        "  # load cifar10 images\n",
        "  (images_train, _), (images_test, _) = cifar10.load_data()\n",
        "  shuffle(images_train)\n",
        "  # images1 = images1[:10000]\n",
        "  images_train = images_train[:batch_size]\n",
        "  images_test = images_test[:batch_size]\n",
        "  print('Loaded', images_train.shape, images_test.shape)\n",
        "\n",
        "  images_train = prepare_inception_images(images_train)\n",
        "  images_test = prepare_inception_images(images_test)\n",
        "  print('prepared:', images_train.shape, images_test.shape)\n",
        "\n",
        "  return images_train, images_test"
      ],
      "metadata": {
        "id": "hLz6vFQCJdMQ"
      },
      "execution_count": 9,
      "outputs": []
    },
    {
      "cell_type": "code",
      "source": [
        "collection = \"meebits\"\n",
        "batch_size = 200\n",
        "# loaded: (200, 128, 128, 3) (200, 128, 128, 3)\n",
        "# prepared: (200, 299, 299, 3) (200, 299, 299, 3)\n",
        "# IS score for original images 1.0484111 0.011174799\n",
        "# IS score for generated images 1.0297205 0.015230436\n",
        "# FID: 0.001\n",
        "\n",
        "# collection = \"cryptopunks32\"\n",
        "# batch_size = 1000\n",
        "# loaded: (1000, 32, 32, 3) (1000, 32, 32, 3)\n",
        "# prepared: (1000, 299, 299, 3) (1000, 299, 299, 3)\n",
        "# IS score for original images 1.0042558 0.00033540194\n",
        "# IS score for generated images 1.0043802 0.0002382655\n",
        "# FID: 0.000\n",
        "\n",
        "collection = \"hapeprime32\"\n",
        "batch_size = 1000\n",
        "# loaded: (1000, 32, 32, 3) (1000, 32, 32, 3)\n",
        "# prepared: (1000, 299, 299, 3) (1000, 299, 299, 3)\n",
        "# IS score for original images 1.0221745 0.0021030218\n",
        "# IS score for generated images 1.0166713 0.0018423495\n",
        "# FID: 0.000\n",
        "\n",
        "images_orig, images_gen = get_prepared_images(collection, batch_size)\n",
        "\n",
        "# calculate inception score\n",
        "is_avg, is_std = calculate_inception_score(model, images_orig)\n",
        "print('IS score for original images', is_avg, is_std)\n",
        "\n",
        "is_avg, is_std = calculate_inception_score(model, images_gen)\n",
        "print('IS score for generated images', is_avg, is_std)\n",
        "\n",
        "# calculate fid\n",
        "fid = calculate_fid(model, images_gen, images_orig)\n",
        "print('FID: %.3f' % fid)"
      ],
      "metadata": {
        "colab": {
          "base_uri": "https://localhost:8080/"
        },
        "id": "PrGZw70R3wGG",
        "outputId": "36c8123e-91b4-43a1-9ebb-7759beb0fb79"
      },
      "execution_count": 14,
      "outputs": [
        {
          "output_type": "stream",
          "name": "stdout",
          "text": [
            "loaded: (1000, 32, 32, 3) (1000, 32, 32, 3)\n",
            "prepared: (1000, 299, 299, 3) (1000, 299, 299, 3)\n",
            "IS score for original images 1.0221745 0.0021030218\n",
            "IS score for generated images 1.0166713 0.0018423495\n",
            "FID: 0.000\n"
          ]
        }
      ]
    },
    {
      "cell_type": "code",
      "source": [
        "batch_size = 1000\n",
        "images_orig, images_gen = get_prepared_cifar10(batch_size)\n",
        "\n",
        "# calculate inception score\n",
        "is_avg, is_std = calculate_inception_score(model, images_orig)\n",
        "print('IS score for train images', is_avg, is_std)\n",
        "\n",
        "is_avg, is_std = calculate_inception_score(model, images_gen)\n",
        "print('IS score for test images', is_avg, is_std)\n",
        "\n",
        "# calculate fid\n",
        "fid = calculate_fid(model, images_gen, images_orig)\n",
        "print('FID: %.3f' % fid)"
      ],
      "metadata": {
        "id": "EHOsqsF_I1Iq",
        "colab": {
          "base_uri": "https://localhost:8080/"
        },
        "outputId": "0cb9be69-4442-4c94-fffb-09a1059bfb77"
      },
      "execution_count": 15,
      "outputs": [
        {
          "output_type": "stream",
          "name": "stdout",
          "text": [
            "Loaded (1000, 32, 32, 3) (1000, 32, 32, 3)\n",
            "prepared: (1000, 299, 299, 3) (1000, 299, 299, 3)\n",
            "IS score for train images 9.017593 0.8886653\n",
            "IS score for test images 9.094406 0.7003175\n",
            "FID: 0.052\n"
          ]
        }
      ]
    },
    {
      "cell_type": "code",
      "source": [
        ""
      ],
      "metadata": {
        "id": "KL7jDMAXIBO1"
      },
      "execution_count": null,
      "outputs": []
    }
  ],
  "nbformat": 4,
  "nbformat_minor": 0,
  "metadata": {
    "colab": {
      "name": "gan_evaluation.ipynb",
      "provenance": [],
      "collapsed_sections": [],
      "include_colab_link": true
    },
    "kernelspec": {
      "display_name": "Python 3",
      "name": "python3"
    },
    "language_info": {
      "name": "python"
    },
    "deepnote_notebook_id": "f2b98688-fc4c-4ecb-80f8-e47f3a8afbdf",
    "deepnote": {},
    "deepnote_execution_queue": [],
    "accelerator": "GPU"
  }
}